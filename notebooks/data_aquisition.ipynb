{
 "cells": [
  {
   "metadata": {
    "ExecuteTime": {
     "end_time": "2025-05-13T08:53:54.421046Z",
     "start_time": "2025-05-13T08:53:54.405117Z"
    }
   },
   "cell_type": "code",
   "source": [
    "import numpy as np\n",
    "import os\n",
    "import pandas as pd\n",
    "\n",
    "data_path = os.path.abspath(os.path.join(\"..\", \"data\"))\n",
    "print(\"Datenpfad:\", data_path)\n",
    "\n",
    "NROWS = 15\n",
    "\n",
    "for root, dirs, files in os.walk(data_path, topdown=True):\n",
    "    for file in files:\n",
    "        if file.startswith(\"sequences_\") and file.endswith(\".csv\"):\n",
    "            raw_csv = pd.read_csv(\n",
    "                filepath_or_buffer=os.path.join(data_path, \"sequences\", file),\n",
    "                index_col=0,\n",
    "                sep=';',\n",
    "                decimal='.',\n",
    "                encoding='unicode_escape',\n",
    "                nrows=NROWS,\n",
    "            )\n",
    "\n",
    "            raw_data = raw_csv.loc[\"data\", :] # Pandas ist geil\n",
    "            raw_data.index = np.linspace(0,len(raw_data)-1, len(raw_data), dtype=int)\n",
    "            raw_meta = raw_csv.loc[[\"data_type\", \"type\", \"unit\", \"primary_key\"], :]\n"
   ],
   "id": "5c1a9a06e664958a",
   "outputs": [
    {
     "name": "stdout",
     "output_type": "stream",
     "text": [
      "Datenpfad: /Users/pyrokar/Documents/GitHub/python/oep-api/data\n"
     ]
    }
   ],
   "execution_count": 2
  },
  {
   "metadata": {
    "ExecuteTime": {
     "end_time": "2025-05-13T08:54:01.231694Z",
     "start_time": "2025-05-13T08:54:01.225544Z"
    }
   },
   "cell_type": "code",
   "source": "raw_data.to_json(orient=\"records\")",
   "id": "1bf92bc5c40c4b29",
   "outputs": [
    {
     "data": {
      "text/plain": [
       "'[{\"wind_east\":\"0.03417525\",\"wind_west\":\"0.065541\",\"wind_north\":\"0.03417525\",\"wind_middle\":\"0.010715725\"},{\"wind_east\":\"0.02629525\",\"wind_west\":\"0.038689\",\"wind_north\":\"0.03337725\",\"wind_middle\":\"0.012131\"},{\"wind_east\":\"0.012131\",\"wind_west\":\"0.01959675\",\"wind_north\":\"0.012131\",\"wind_middle\":\"0.002469958\"},{\"wind_east\":\"0.02673775\",\"wind_west\":\"0.03786275\",\"wind_north\":\"0.02673775\",\"wind_middle\":\"0.0108305\"},{\"wind_east\":\"0.02142625\",\"wind_west\":\"0.038689\",\"wind_north\":\"0.038689\",\"wind_middle\":\"0.012131\"},{\"wind_east\":\"0.038689\",\"wind_west\":\"0.038689\",\"wind_north\":\"0.038689\",\"wind_middle\":\"0.012131\"},{\"wind_east\":\"0.02319675\",\"wind_west\":\"0.034705\",\"wind_north\":\"0.02585225\",\"wind_middle\":\"0.012131\"},{\"wind_east\":\"0.038689\",\"wind_west\":\"0.07005475\",\"wind_north\":\"0.04939925\",\"wind_middle\":\"0.028951\"},{\"wind_east\":\"0.04633925\",\"wind_west\":\"0.066833\",\"wind_north\":\"0.050607\",\"wind_middle\":\"0.02462475\"},{\"wind_east\":\"0.1743525\",\"wind_west\":\"0.2704625\",\"wind_north\":\"0.2231075\",\"wind_middle\":\"0.1440795\"},{\"wind_east\":\"0.148595\",\"wind_west\":\"0.21313\",\"wind_north\":\"0.1995375\",\"wind_middle\":\"0.1147815\"}]'"
      ]
     },
     "execution_count": 3,
     "metadata": {},
     "output_type": "execute_result"
    }
   ],
   "execution_count": 3
  },
  {
   "metadata": {},
   "cell_type": "code",
   "outputs": [],
   "execution_count": null,
   "source": "",
   "id": "577c00052a6c64a6"
  }
 ],
 "metadata": {
  "kernelspec": {
   "display_name": "Python 3",
   "language": "python",
   "name": "python3"
  },
  "language_info": {
   "codemirror_mode": {
    "name": "ipython",
    "version": 2
   },
   "file_extension": ".py",
   "mimetype": "text/x-python",
   "name": "python",
   "nbconvert_exporter": "python",
   "pygments_lexer": "ipython2",
   "version": "2.7.6"
  }
 },
 "nbformat": 4,
 "nbformat_minor": 5
}
